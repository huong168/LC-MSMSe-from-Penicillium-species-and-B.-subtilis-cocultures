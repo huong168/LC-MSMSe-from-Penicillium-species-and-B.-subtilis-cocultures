{
 "cells": [
  {
   "cell_type": "markdown",
   "metadata": {},
   "source": [
    "# Calculate CSCS Distance and visualize it through PCoA and HCA"
   ]
  },
  {
   "cell_type": "code",
   "execution_count": 1,
   "metadata": {},
   "outputs": [],
   "source": [
    "##install rCSCS package if it is not installed\n",
    "#devtools::install_github(\"askerdb/rCSCS\")"
   ]
  },
  {
   "cell_type": "markdown",
   "metadata": {},
   "source": [
    "## Calculate CSCS Distance"
   ]
  },
  {
   "cell_type": "code",
   "execution_count": 1,
   "metadata": {
    "scrolled": true
   },
   "outputs": [
    {
     "name": "stderr",
     "output_type": "stream",
     "text": [
      "Warning message:\n",
      "\"package 'stringr' was built under R version 3.6.3\"Warning message:\n",
      "\"package 'dendextend' was built under R version 3.6.3\"\n",
      "---------------------\n",
      "Welcome to dendextend version 1.15.1\n",
      "Type citation('dendextend') for how to cite the package.\n",
      "\n",
      "Type browseVignettes(package = 'dendextend') for the package vignette.\n",
      "The github page is: https://github.com/talgalili/dendextend/\n",
      "\n",
      "Suggestions and bug-reports can be submitted at: https://github.com/talgalili/dendextend/issues\n",
      "Or contact: <tal.galili@gmail.com>\n",
      "\n",
      "\tTo suppress this message use:  suppressPackageStartupMessages(library(dendextend))\n",
      "---------------------\n",
      "\n",
      "\n",
      "Attaching package: 'dendextend'\n",
      "\n",
      "The following object is masked from 'package:stats':\n",
      "\n",
      "    cutree\n",
      "\n"
     ]
    }
   ],
   "source": [
    "#devtools::install_github(\"askerdb/rCSCS\")\n",
    "library(rCSCS)\n",
    "library(stringr)\n",
    "library(dendextend)"
   ]
  },
  {
   "cell_type": "code",
   "execution_count": 2,
   "metadata": {},
   "outputs": [],
   "source": [
    "# Import GNPS data\n",
    "My.features <- read.table(\"12af5f2430cc45189dcb383c1739cb98.csv\", sep = \",\", row.names = 1, header=T, comment.char=\"\")\n",
    "Meta.Inf <- read.table(\"qiime2_metadata.tsv\", sep = \"\\t\", header=TRUE)\n",
    "My.css <- prepare_css(\"9b03a9efc91c4590b058a9505ee2ecef..selfloop\")\n",
    "My.features <- subset(My.features, select= -c(row.m.z, row.retention.time))\n",
    "colnames(My.features) <- str_replace_all(colnames(My.features), '.Peak.area','')"
   ]
  },
  {
   "cell_type": "code",
   "execution_count": 3,
   "metadata": {},
   "outputs": [],
   "source": [
    "# ion intensity 100 cutoff\n",
    "My.features[My.features<100] <- 0"
   ]
  },
  {
   "cell_type": "code",
   "execution_count": 4,
   "metadata": {},
   "outputs": [
    {
     "name": "stderr",
     "output_type": "stream",
     "text": [
      "Warning message:\n",
      "\"executing %dopar% sequentially: no parallel backend registered\""
     ]
    }
   ],
   "source": [
    "# Run Unweighted CSCS\n",
    "gnps.Unw_ccs <- cscs(My.features, My.css, cosine_threshold = 0.7, weighted = FALSE)"
   ]
  },
  {
   "cell_type": "code",
   "execution_count": 5,
   "metadata": {},
   "outputs": [],
   "source": [
    "# Run Weighted CSCS\n",
    "gnps.W_ccs <- cscs(My.features, My.css, cosine_threshold = 0.7, weighted = TRUE)"
   ]
  },
  {
   "cell_type": "code",
   "execution_count": 20,
   "metadata": {},
   "outputs": [
    {
     "data": {
      "text/html": [
       "'E:/Shared drives/KangkbLab/Jupyter Notebook/Huong/Penicillium/Coculture/rCSCS'"
      ],
      "text/latex": [
       "'E:/Shared drives/KangkbLab/Jupyter Notebook/Huong/Penicillium/Coculture/rCSCS'"
      ],
      "text/markdown": [
       "'E:/Shared drives/KangkbLab/Jupyter Notebook/Huong/Penicillium/Coculture/rCSCS'"
      ],
      "text/plain": [
       "[1] \"E:/Shared drives/KangkbLab/Jupyter Notebook/Huong/Penicillium/Coculture/rCSCS\""
      ]
     },
     "metadata": {},
     "output_type": "display_data"
    }
   ],
   "source": [
    "getwd()"
   ]
  },
  {
   "cell_type": "code",
   "execution_count": 6,
   "metadata": {},
   "outputs": [],
   "source": [
    "setwd('E:/Shared drives/KangkbLab/Jupyter Notebook/Huong/Penicillium/Coculture/Bacteria/rCSCS')"
   ]
  },
  {
   "cell_type": "code",
   "execution_count": 7,
   "metadata": {},
   "outputs": [
    {
     "data": {
      "text/html": [
       "'E:/Shared drives/KangkbLab/Jupyter Notebook/Huong/Penicillium/Coculture/Bacteria/rCSCS'"
      ],
      "text/latex": [
       "'E:/Shared drives/KangkbLab/Jupyter Notebook/Huong/Penicillium/Coculture/Bacteria/rCSCS'"
      ],
      "text/markdown": [
       "'E:/Shared drives/KangkbLab/Jupyter Notebook/Huong/Penicillium/Coculture/Bacteria/rCSCS'"
      ],
      "text/plain": [
       "[1] \"E:/Shared drives/KangkbLab/Jupyter Notebook/Huong/Penicillium/Coculture/Bacteria/rCSCS\""
      ]
     },
     "metadata": {},
     "output_type": "display_data"
    }
   ],
   "source": [
    "getwd()"
   ]
  },
  {
   "cell_type": "code",
   "execution_count": 8,
   "metadata": {},
   "outputs": [
    {
     "data": {
      "text/html": [
       "TRUE"
      ],
      "text/latex": [
       "TRUE"
      ],
      "text/markdown": [
       "TRUE"
      ],
      "text/plain": [
       "[1] TRUE"
      ]
     },
     "metadata": {},
     "output_type": "display_data"
    }
   ],
   "source": [
    "file.exists('E:/Shared drives/KangkbLab/Jupyter Notebook/Huong/Penicillium/Coculture/Bacteria/rCSCS')"
   ]
  },
  {
   "cell_type": "code",
   "execution_count": 9,
   "metadata": {},
   "outputs": [],
   "source": [
    "write.table(as.matrix(gnps.W_ccs),\"wCSCS_distance_CoPeniBacteria_Pos.tsv\",sep=\"\\t\",row.names = T,col.names = NA, quote = F)\n",
    "write.table(as.matrix(gnps.Unw_ccs),\"unwCSCS_distance_CoPeniBacteria_Pos.tsv\",sep=\"\\t\",row.names = T,col.names = NA, quote = F)"
   ]
  },
  {
   "cell_type": "code",
   "execution_count": 11,
   "metadata": {},
   "outputs": [],
   "source": [
    "wPenicillium_pcoa <- ape::pcoa(gnps.W_ccs)\n",
    "metadata <- read.table(\"metadata_table-00000.txt\", sep = \"\\t\", header=TRUE)\n",
    "df <- data.frame(wPenicillium_pcoa$vectors)\n",
    "df$filename <- rownames(df)\n",
    "df <- merge(df,metadata,by=\"filename\")"
   ]
  },
  {
   "cell_type": "code",
   "execution_count": 12,
   "metadata": {
    "collapsed": true,
    "jupyter": {
     "outputs_hidden": true
    }
   },
   "outputs": [
    {
     "data": {
      "text/html": [
       "<table>\n",
       "<caption>A data.frame: 270 × 6</caption>\n",
       "<thead>\n",
       "\t<tr><th scope=col>filename</th><th scope=col>ATTRIBUTE_Family</th><th scope=col>ATTRIBUTE_Species</th><th scope=col>ATTRIBUTE_SampleGroup</th><th scope=col>ATTRIBUTE_SampleType</th><th scope=col>ATTRIBUTE_SampleName</th></tr>\n",
       "\t<tr><th scope=col>&lt;fct&gt;</th><th scope=col>&lt;fct&gt;</th><th scope=col>&lt;fct&gt;</th><th scope=col>&lt;fct&gt;</th><th scope=col>&lt;fct&gt;</th><th scope=col>&lt;fct&gt;</th></tr>\n",
       "</thead>\n",
       "<tbody>\n",
       "\t<tr><td>Blank50MeOH_1  </td><td>Penicillium</td><td>Blank                          </td><td>Blank  </td><td>blank   </td><td>blank_1          </td></tr>\n",
       "\t<tr><td>Blank50MeOH_2  </td><td>Penicillium</td><td>Blank                          </td><td>Blank  </td><td>blank   </td><td>blank_2          </td></tr>\n",
       "\t<tr><td>Blank50MeOH_3  </td><td>Penicillium</td><td>Blank                          </td><td>Blank  </td><td>blank   </td><td>blank_3          </td></tr>\n",
       "\t<tr><td>blank_50MeOH_4 </td><td>Penicillium</td><td>Blank                          </td><td>Blank  </td><td>blank   </td><td>blank_4          </td></tr>\n",
       "\t<tr><td>blank_50MeOH_5 </td><td>Penicillium</td><td>Blank                          </td><td>Blank  </td><td>blank   </td><td>blank_5          </td></tr>\n",
       "\t<tr><td>B_subtilis_Cent</td><td>Bacillus   </td><td>Bacillus_subtilis              </td><td>Control</td><td>Bacteria</td><td>Bacillus_subtilis</td></tr>\n",
       "\t<tr><td>BP01_cent      </td><td>Penicillium</td><td>Penicillium_yarmokense         </td><td>BP     </td><td>BP1     </td><td>BP01             </td></tr>\n",
       "\t<tr><td>BP02_cent      </td><td>Penicillium</td><td>Penicillium_echinulonalgiovense</td><td>BP     </td><td>BP1     </td><td>BP02             </td></tr>\n",
       "\t<tr><td>BP03_Cent      </td><td>Penicillium</td><td>Penicillium_paraherquei        </td><td>BP     </td><td>BP1     </td><td>BP03             </td></tr>\n",
       "\t<tr><td>BP04_Cent      </td><td>Penicillium</td><td>Penicillium_trzebinskii        </td><td>BP     </td><td>BP1     </td><td>BP04             </td></tr>\n",
       "\t<tr><td>BP05_cent      </td><td>Penicillium</td><td>Penicillium_coprophilum        </td><td>BP     </td><td>BP1     </td><td>BP05             </td></tr>\n",
       "\t<tr><td>BP06_Cent      </td><td>Penicillium</td><td>Penicillium_radicicola         </td><td>BP     </td><td>BP1     </td><td>BP06             </td></tr>\n",
       "\t<tr><td>BP07_Cent      </td><td>Penicillium</td><td>Penicillium_nalgiovense        </td><td>BP     </td><td>BP1     </td><td>BP07             </td></tr>\n",
       "\t<tr><td>BP08_cent      </td><td>Penicillium</td><td>Penicillium_mallochii          </td><td>BP     </td><td>BP1     </td><td>BP08             </td></tr>\n",
       "\t<tr><td>BP09_Cent      </td><td>Penicillium</td><td>Penicillium_velutinum          </td><td>BP     </td><td>BP1     </td><td>BP09             </td></tr>\n",
       "\t<tr><td>BP10_Cent      </td><td>Penicillium</td><td>Penicillium_chrysogenum        </td><td>BP     </td><td>BP1     </td><td>BP10             </td></tr>\n",
       "\t<tr><td>BP11_Cent      </td><td>Penicillium</td><td>Penicillium_polonicum          </td><td>BP     </td><td>BP1     </td><td>BP11             </td></tr>\n",
       "\t<tr><td>BP12_cent      </td><td>Penicillium</td><td>Penicillium_janczewskii        </td><td>BP     </td><td>BP1     </td><td>BP12             </td></tr>\n",
       "\t<tr><td>BP13_Cent      </td><td>Penicillium</td><td>Penicillium_magnielliptisporum </td><td>BP     </td><td>BP1     </td><td>BP13             </td></tr>\n",
       "\t<tr><td>BP14_Cent      </td><td>Penicillium</td><td>Penicillium_limosum            </td><td>BP     </td><td>BP1     </td><td>BP14             </td></tr>\n",
       "\t<tr><td>BP15_Cent      </td><td>Penicillium</td><td>Penicillium_caperatum          </td><td>BP     </td><td>BP1     </td><td>BP15             </td></tr>\n",
       "\t<tr><td>BP16_Cent      </td><td>Penicillium</td><td>Penicillium_allii              </td><td>BP     </td><td>BP1     </td><td>BP16             </td></tr>\n",
       "\t<tr><td>BP17_cent      </td><td>Penicillium</td><td>Penicillium_multicolor         </td><td>BP     </td><td>BP1     </td><td>BP17             </td></tr>\n",
       "\t<tr><td>BP18_Cent      </td><td>Penicillium</td><td>Penicillium_janthinellum       </td><td>BP     </td><td>BP1     </td><td>BP18             </td></tr>\n",
       "\t<tr><td>BP19_Cent      </td><td>Penicillium</td><td>Penicillium_bilaiae            </td><td>BP     </td><td>BP1     </td><td>BP19             </td></tr>\n",
       "\t<tr><td>BP20_Cent      </td><td>Penicillium</td><td>Penicillium_aurantioviolaceum  </td><td>BP     </td><td>BP1     </td><td>BP20             </td></tr>\n",
       "\t<tr><td>BP21_Cent      </td><td>Penicillium</td><td>Penicillium_jejuense           </td><td>BP     </td><td>BP1     </td><td>BP21             </td></tr>\n",
       "\t<tr><td>BP22_Cent      </td><td>Penicillium</td><td>Penicillium_steckii            </td><td>BP     </td><td>BP1     </td><td>BP22             </td></tr>\n",
       "\t<tr><td>BP23_Cent      </td><td>Penicillium</td><td>Penicillium_roseomaculatum     </td><td>BP     </td><td>BP1     </td><td>BP23             </td></tr>\n",
       "\t<tr><td>BP24_Cent      </td><td>Penicillium</td><td>Penicillium_spinulosum         </td><td>BP     </td><td>BP1     </td><td>BP24             </td></tr>\n",
       "\t<tr><td>...</td><td>...</td><td>...</td><td>...</td><td>...</td><td>...</td></tr>\n",
       "\t<tr><td>P63_Cent      </td><td>Penicillium</td><td>Penicillium_mexicanum     </td><td>Axenic</td><td>P  </td><td>P63  </td></tr>\n",
       "\t<tr><td>P64_cent      </td><td>Penicillium</td><td>Penicillium_nodulum       </td><td>Axenic</td><td>P  </td><td>P64  </td></tr>\n",
       "\t<tr><td>P65_cent      </td><td>Penicillium</td><td>Penicillium_olsonii       </td><td>Axenic</td><td>P  </td><td>P65  </td></tr>\n",
       "\t<tr><td>P66_Cent      </td><td>Penicillium</td><td>Penicillium_paxilli       </td><td>Axenic</td><td>P  </td><td>P66  </td></tr>\n",
       "\t<tr><td>P67_Cent      </td><td>Penicillium</td><td>Penicillium_piscarium     </td><td>Axenic</td><td>P  </td><td>P67  </td></tr>\n",
       "\t<tr><td>P68_cent      </td><td>Penicillium</td><td>Penicillium_terrigenum    </td><td>Axenic</td><td>P  </td><td>P68  </td></tr>\n",
       "\t<tr><td>P69_Cent      </td><td>Penicillium</td><td>Penicillium_ubiquetum     </td><td>Axenic</td><td>P  </td><td>P69  </td></tr>\n",
       "\t<tr><td>P70_cent      </td><td>Penicillium</td><td>Penicillium_viridicatum   </td><td>Axenic</td><td>P  </td><td>P70  </td></tr>\n",
       "\t<tr><td>P71_Cent      </td><td>Penicillium</td><td>Penicillium_viticola      </td><td>Axenic</td><td>P  </td><td>P71  </td></tr>\n",
       "\t<tr><td>P72_cent      </td><td>Penicillium</td><td>Penicillium_ortum         </td><td>Axenic</td><td>P  </td><td>P72  </td></tr>\n",
       "\t<tr><td>P73_Cent      </td><td>Penicillium</td><td>Penicillium_raperi        </td><td>Axenic</td><td>P  </td><td>P73  </td></tr>\n",
       "\t<tr><td>P74_Cent      </td><td>Penicillium</td><td>Penicillium_westlingii    </td><td>Axenic</td><td>P  </td><td>P74  </td></tr>\n",
       "\t<tr><td>P75_cent      </td><td>Penicillium</td><td>Penicillium_griseofulvum  </td><td>Axenic</td><td>P  </td><td>P75  </td></tr>\n",
       "\t<tr><td>P76_Cent      </td><td>Penicillium</td><td>Penicillium_javanicum     </td><td>Axenic</td><td>P  </td><td>P76  </td></tr>\n",
       "\t<tr><td>P77_Cent      </td><td>Penicillium</td><td>Penicillium_bialowiezense </td><td>Axenic</td><td>P  </td><td>P77  </td></tr>\n",
       "\t<tr><td>P81_Cent      </td><td>Penicillium</td><td>Penicillium_citrinum      </td><td>Axenic</td><td>P  </td><td>P81  </td></tr>\n",
       "\t<tr><td>P82_Cent      </td><td>Penicillium</td><td>Penicillium_crustosum     </td><td>Axenic</td><td>P  </td><td>P82  </td></tr>\n",
       "\t<tr><td>P83_cent      </td><td>Penicillium</td><td>Penicillium_expansum      </td><td>Axenic</td><td>P  </td><td>P83  </td></tr>\n",
       "\t<tr><td>P84_Cent      </td><td>Penicillium</td><td>Penicillium_frequentans   </td><td>Axenic</td><td>P  </td><td>P84  </td></tr>\n",
       "\t<tr><td>P85_Cent      </td><td>Penicillium</td><td>Penicillium_hetheringtonii</td><td>Axenic</td><td>P  </td><td>P85  </td></tr>\n",
       "\t<tr><td>P86_Cent      </td><td>Penicillium</td><td>Penicillium_koreense      </td><td>Axenic</td><td>P  </td><td>P86  </td></tr>\n",
       "\t<tr><td>P87_Cent      </td><td>Penicillium</td><td>Penicillium_maximae       </td><td>Axenic</td><td>P  </td><td>P87  </td></tr>\n",
       "\t<tr><td>P88_Cent      </td><td>Penicillium</td><td>Penicillium_menonorum     </td><td>Axenic</td><td>P  </td><td>P88  </td></tr>\n",
       "\t<tr><td>P89_Cent      </td><td>Penicillium</td><td>Penicillium_glabrum       </td><td>Axenic</td><td>P  </td><td>P89  </td></tr>\n",
       "\t<tr><td>QC1_0_Cent    </td><td>Penicillium</td><td>NA                        </td><td>QC    </td><td>QC1</td><td>QC1_0</td></tr>\n",
       "\t<tr><td>QC2_0_Cent    </td><td>Penicillium</td><td>NA                        </td><td>QC    </td><td>QC2</td><td>QC2_0</td></tr>\n",
       "\t<tr><td>QC3_0_cent    </td><td>Penicillium</td><td>NA                        </td><td>QC    </td><td>QC3</td><td>QC3_0</td></tr>\n",
       "\t<tr><td>QC4_0_cent    </td><td>Penicillium</td><td>NA                        </td><td>QC    </td><td>QC4</td><td>QC4_0</td></tr>\n",
       "\t<tr><td>QC5_0_Cent    </td><td>Penicillium</td><td>NA                        </td><td>QC    </td><td>QC5</td><td>QC5_0</td></tr>\n",
       "\t<tr><td>PDA_Blank_Cent</td><td>Penicillium</td><td>PDA                       </td><td>Blank </td><td>PDA</td><td>PDA  </td></tr>\n",
       "</tbody>\n",
       "</table>\n"
      ],
      "text/latex": [
       "A data.frame: 270 × 6\n",
       "\\begin{tabular}{r|llllll}\n",
       " filename & ATTRIBUTE\\_Family & ATTRIBUTE\\_Species & ATTRIBUTE\\_SampleGroup & ATTRIBUTE\\_SampleType & ATTRIBUTE\\_SampleName\\\\\n",
       " <fct> & <fct> & <fct> & <fct> & <fct> & <fct>\\\\\n",
       "\\hline\n",
       "\t Blank50MeOH\\_1   & Penicillium & Blank                           & Blank   & blank    & blank\\_1          \\\\\n",
       "\t Blank50MeOH\\_2   & Penicillium & Blank                           & Blank   & blank    & blank\\_2          \\\\\n",
       "\t Blank50MeOH\\_3   & Penicillium & Blank                           & Blank   & blank    & blank\\_3          \\\\\n",
       "\t blank\\_50MeOH\\_4  & Penicillium & Blank                           & Blank   & blank    & blank\\_4          \\\\\n",
       "\t blank\\_50MeOH\\_5  & Penicillium & Blank                           & Blank   & blank    & blank\\_5          \\\\\n",
       "\t B\\_subtilis\\_Cent & Bacillus    & Bacillus\\_subtilis               & Control & Bacteria & Bacillus\\_subtilis\\\\\n",
       "\t BP01\\_cent       & Penicillium & Penicillium\\_yarmokense          & BP      & BP1      & BP01             \\\\\n",
       "\t BP02\\_cent       & Penicillium & Penicillium\\_echinulonalgiovense & BP      & BP1      & BP02             \\\\\n",
       "\t BP03\\_Cent       & Penicillium & Penicillium\\_paraherquei         & BP      & BP1      & BP03             \\\\\n",
       "\t BP04\\_Cent       & Penicillium & Penicillium\\_trzebinskii         & BP      & BP1      & BP04             \\\\\n",
       "\t BP05\\_cent       & Penicillium & Penicillium\\_coprophilum         & BP      & BP1      & BP05             \\\\\n",
       "\t BP06\\_Cent       & Penicillium & Penicillium\\_radicicola          & BP      & BP1      & BP06             \\\\\n",
       "\t BP07\\_Cent       & Penicillium & Penicillium\\_nalgiovense         & BP      & BP1      & BP07             \\\\\n",
       "\t BP08\\_cent       & Penicillium & Penicillium\\_mallochii           & BP      & BP1      & BP08             \\\\\n",
       "\t BP09\\_Cent       & Penicillium & Penicillium\\_velutinum           & BP      & BP1      & BP09             \\\\\n",
       "\t BP10\\_Cent       & Penicillium & Penicillium\\_chrysogenum         & BP      & BP1      & BP10             \\\\\n",
       "\t BP11\\_Cent       & Penicillium & Penicillium\\_polonicum           & BP      & BP1      & BP11             \\\\\n",
       "\t BP12\\_cent       & Penicillium & Penicillium\\_janczewskii         & BP      & BP1      & BP12             \\\\\n",
       "\t BP13\\_Cent       & Penicillium & Penicillium\\_magnielliptisporum  & BP      & BP1      & BP13             \\\\\n",
       "\t BP14\\_Cent       & Penicillium & Penicillium\\_limosum             & BP      & BP1      & BP14             \\\\\n",
       "\t BP15\\_Cent       & Penicillium & Penicillium\\_caperatum           & BP      & BP1      & BP15             \\\\\n",
       "\t BP16\\_Cent       & Penicillium & Penicillium\\_allii               & BP      & BP1      & BP16             \\\\\n",
       "\t BP17\\_cent       & Penicillium & Penicillium\\_multicolor          & BP      & BP1      & BP17             \\\\\n",
       "\t BP18\\_Cent       & Penicillium & Penicillium\\_janthinellum        & BP      & BP1      & BP18             \\\\\n",
       "\t BP19\\_Cent       & Penicillium & Penicillium\\_bilaiae             & BP      & BP1      & BP19             \\\\\n",
       "\t BP20\\_Cent       & Penicillium & Penicillium\\_aurantioviolaceum   & BP      & BP1      & BP20             \\\\\n",
       "\t BP21\\_Cent       & Penicillium & Penicillium\\_jejuense            & BP      & BP1      & BP21             \\\\\n",
       "\t BP22\\_Cent       & Penicillium & Penicillium\\_steckii             & BP      & BP1      & BP22             \\\\\n",
       "\t BP23\\_Cent       & Penicillium & Penicillium\\_roseomaculatum      & BP      & BP1      & BP23             \\\\\n",
       "\t BP24\\_Cent       & Penicillium & Penicillium\\_spinulosum          & BP      & BP1      & BP24             \\\\\n",
       "\t ... & ... & ... & ... & ... & ...\\\\\n",
       "\t P63\\_Cent       & Penicillium & Penicillium\\_mexicanum      & Axenic & P   & P63  \\\\\n",
       "\t P64\\_cent       & Penicillium & Penicillium\\_nodulum        & Axenic & P   & P64  \\\\\n",
       "\t P65\\_cent       & Penicillium & Penicillium\\_olsonii        & Axenic & P   & P65  \\\\\n",
       "\t P66\\_Cent       & Penicillium & Penicillium\\_paxilli        & Axenic & P   & P66  \\\\\n",
       "\t P67\\_Cent       & Penicillium & Penicillium\\_piscarium      & Axenic & P   & P67  \\\\\n",
       "\t P68\\_cent       & Penicillium & Penicillium\\_terrigenum     & Axenic & P   & P68  \\\\\n",
       "\t P69\\_Cent       & Penicillium & Penicillium\\_ubiquetum      & Axenic & P   & P69  \\\\\n",
       "\t P70\\_cent       & Penicillium & Penicillium\\_viridicatum    & Axenic & P   & P70  \\\\\n",
       "\t P71\\_Cent       & Penicillium & Penicillium\\_viticola       & Axenic & P   & P71  \\\\\n",
       "\t P72\\_cent       & Penicillium & Penicillium\\_ortum          & Axenic & P   & P72  \\\\\n",
       "\t P73\\_Cent       & Penicillium & Penicillium\\_raperi         & Axenic & P   & P73  \\\\\n",
       "\t P74\\_Cent       & Penicillium & Penicillium\\_westlingii     & Axenic & P   & P74  \\\\\n",
       "\t P75\\_cent       & Penicillium & Penicillium\\_griseofulvum   & Axenic & P   & P75  \\\\\n",
       "\t P76\\_Cent       & Penicillium & Penicillium\\_javanicum      & Axenic & P   & P76  \\\\\n",
       "\t P77\\_Cent       & Penicillium & Penicillium\\_bialowiezense  & Axenic & P   & P77  \\\\\n",
       "\t P81\\_Cent       & Penicillium & Penicillium\\_citrinum       & Axenic & P   & P81  \\\\\n",
       "\t P82\\_Cent       & Penicillium & Penicillium\\_crustosum      & Axenic & P   & P82  \\\\\n",
       "\t P83\\_cent       & Penicillium & Penicillium\\_expansum       & Axenic & P   & P83  \\\\\n",
       "\t P84\\_Cent       & Penicillium & Penicillium\\_frequentans    & Axenic & P   & P84  \\\\\n",
       "\t P85\\_Cent       & Penicillium & Penicillium\\_hetheringtonii & Axenic & P   & P85  \\\\\n",
       "\t P86\\_Cent       & Penicillium & Penicillium\\_koreense       & Axenic & P   & P86  \\\\\n",
       "\t P87\\_Cent       & Penicillium & Penicillium\\_maximae        & Axenic & P   & P87  \\\\\n",
       "\t P88\\_Cent       & Penicillium & Penicillium\\_menonorum      & Axenic & P   & P88  \\\\\n",
       "\t P89\\_Cent       & Penicillium & Penicillium\\_glabrum        & Axenic & P   & P89  \\\\\n",
       "\t QC1\\_0\\_Cent     & Penicillium & NA                         & QC     & QC1 & QC1\\_0\\\\\n",
       "\t QC2\\_0\\_Cent     & Penicillium & NA                         & QC     & QC2 & QC2\\_0\\\\\n",
       "\t QC3\\_0\\_cent     & Penicillium & NA                         & QC     & QC3 & QC3\\_0\\\\\n",
       "\t QC4\\_0\\_cent     & Penicillium & NA                         & QC     & QC4 & QC4\\_0\\\\\n",
       "\t QC5\\_0\\_Cent     & Penicillium & NA                         & QC     & QC5 & QC5\\_0\\\\\n",
       "\t PDA\\_Blank\\_Cent & Penicillium & PDA                        & Blank  & PDA & PDA  \\\\\n",
       "\\end{tabular}\n"
      ],
      "text/markdown": [
       "\n",
       "A data.frame: 270 × 6\n",
       "\n",
       "| filename &lt;fct&gt; | ATTRIBUTE_Family &lt;fct&gt; | ATTRIBUTE_Species &lt;fct&gt; | ATTRIBUTE_SampleGroup &lt;fct&gt; | ATTRIBUTE_SampleType &lt;fct&gt; | ATTRIBUTE_SampleName &lt;fct&gt; |\n",
       "|---|---|---|---|---|---|\n",
       "| Blank50MeOH_1   | Penicillium | Blank                           | Blank   | blank    | blank_1           |\n",
       "| Blank50MeOH_2   | Penicillium | Blank                           | Blank   | blank    | blank_2           |\n",
       "| Blank50MeOH_3   | Penicillium | Blank                           | Blank   | blank    | blank_3           |\n",
       "| blank_50MeOH_4  | Penicillium | Blank                           | Blank   | blank    | blank_4           |\n",
       "| blank_50MeOH_5  | Penicillium | Blank                           | Blank   | blank    | blank_5           |\n",
       "| B_subtilis_Cent | Bacillus    | Bacillus_subtilis               | Control | Bacteria | Bacillus_subtilis |\n",
       "| BP01_cent       | Penicillium | Penicillium_yarmokense          | BP      | BP1      | BP01              |\n",
       "| BP02_cent       | Penicillium | Penicillium_echinulonalgiovense | BP      | BP1      | BP02              |\n",
       "| BP03_Cent       | Penicillium | Penicillium_paraherquei         | BP      | BP1      | BP03              |\n",
       "| BP04_Cent       | Penicillium | Penicillium_trzebinskii         | BP      | BP1      | BP04              |\n",
       "| BP05_cent       | Penicillium | Penicillium_coprophilum         | BP      | BP1      | BP05              |\n",
       "| BP06_Cent       | Penicillium | Penicillium_radicicola          | BP      | BP1      | BP06              |\n",
       "| BP07_Cent       | Penicillium | Penicillium_nalgiovense         | BP      | BP1      | BP07              |\n",
       "| BP08_cent       | Penicillium | Penicillium_mallochii           | BP      | BP1      | BP08              |\n",
       "| BP09_Cent       | Penicillium | Penicillium_velutinum           | BP      | BP1      | BP09              |\n",
       "| BP10_Cent       | Penicillium | Penicillium_chrysogenum         | BP      | BP1      | BP10              |\n",
       "| BP11_Cent       | Penicillium | Penicillium_polonicum           | BP      | BP1      | BP11              |\n",
       "| BP12_cent       | Penicillium | Penicillium_janczewskii         | BP      | BP1      | BP12              |\n",
       "| BP13_Cent       | Penicillium | Penicillium_magnielliptisporum  | BP      | BP1      | BP13              |\n",
       "| BP14_Cent       | Penicillium | Penicillium_limosum             | BP      | BP1      | BP14              |\n",
       "| BP15_Cent       | Penicillium | Penicillium_caperatum           | BP      | BP1      | BP15              |\n",
       "| BP16_Cent       | Penicillium | Penicillium_allii               | BP      | BP1      | BP16              |\n",
       "| BP17_cent       | Penicillium | Penicillium_multicolor          | BP      | BP1      | BP17              |\n",
       "| BP18_Cent       | Penicillium | Penicillium_janthinellum        | BP      | BP1      | BP18              |\n",
       "| BP19_Cent       | Penicillium | Penicillium_bilaiae             | BP      | BP1      | BP19              |\n",
       "| BP20_Cent       | Penicillium | Penicillium_aurantioviolaceum   | BP      | BP1      | BP20              |\n",
       "| BP21_Cent       | Penicillium | Penicillium_jejuense            | BP      | BP1      | BP21              |\n",
       "| BP22_Cent       | Penicillium | Penicillium_steckii             | BP      | BP1      | BP22              |\n",
       "| BP23_Cent       | Penicillium | Penicillium_roseomaculatum      | BP      | BP1      | BP23              |\n",
       "| BP24_Cent       | Penicillium | Penicillium_spinulosum          | BP      | BP1      | BP24              |\n",
       "| ... | ... | ... | ... | ... | ... |\n",
       "| P63_Cent       | Penicillium | Penicillium_mexicanum      | Axenic | P   | P63   |\n",
       "| P64_cent       | Penicillium | Penicillium_nodulum        | Axenic | P   | P64   |\n",
       "| P65_cent       | Penicillium | Penicillium_olsonii        | Axenic | P   | P65   |\n",
       "| P66_Cent       | Penicillium | Penicillium_paxilli        | Axenic | P   | P66   |\n",
       "| P67_Cent       | Penicillium | Penicillium_piscarium      | Axenic | P   | P67   |\n",
       "| P68_cent       | Penicillium | Penicillium_terrigenum     | Axenic | P   | P68   |\n",
       "| P69_Cent       | Penicillium | Penicillium_ubiquetum      | Axenic | P   | P69   |\n",
       "| P70_cent       | Penicillium | Penicillium_viridicatum    | Axenic | P   | P70   |\n",
       "| P71_Cent       | Penicillium | Penicillium_viticola       | Axenic | P   | P71   |\n",
       "| P72_cent       | Penicillium | Penicillium_ortum          | Axenic | P   | P72   |\n",
       "| P73_Cent       | Penicillium | Penicillium_raperi         | Axenic | P   | P73   |\n",
       "| P74_Cent       | Penicillium | Penicillium_westlingii     | Axenic | P   | P74   |\n",
       "| P75_cent       | Penicillium | Penicillium_griseofulvum   | Axenic | P   | P75   |\n",
       "| P76_Cent       | Penicillium | Penicillium_javanicum      | Axenic | P   | P76   |\n",
       "| P77_Cent       | Penicillium | Penicillium_bialowiezense  | Axenic | P   | P77   |\n",
       "| P81_Cent       | Penicillium | Penicillium_citrinum       | Axenic | P   | P81   |\n",
       "| P82_Cent       | Penicillium | Penicillium_crustosum      | Axenic | P   | P82   |\n",
       "| P83_cent       | Penicillium | Penicillium_expansum       | Axenic | P   | P83   |\n",
       "| P84_Cent       | Penicillium | Penicillium_frequentans    | Axenic | P   | P84   |\n",
       "| P85_Cent       | Penicillium | Penicillium_hetheringtonii | Axenic | P   | P85   |\n",
       "| P86_Cent       | Penicillium | Penicillium_koreense       | Axenic | P   | P86   |\n",
       "| P87_Cent       | Penicillium | Penicillium_maximae        | Axenic | P   | P87   |\n",
       "| P88_Cent       | Penicillium | Penicillium_menonorum      | Axenic | P   | P88   |\n",
       "| P89_Cent       | Penicillium | Penicillium_glabrum        | Axenic | P   | P89   |\n",
       "| QC1_0_Cent     | Penicillium | NA                         | QC     | QC1 | QC1_0 |\n",
       "| QC2_0_Cent     | Penicillium | NA                         | QC     | QC2 | QC2_0 |\n",
       "| QC3_0_cent     | Penicillium | NA                         | QC     | QC3 | QC3_0 |\n",
       "| QC4_0_cent     | Penicillium | NA                         | QC     | QC4 | QC4_0 |\n",
       "| QC5_0_Cent     | Penicillium | NA                         | QC     | QC5 | QC5_0 |\n",
       "| PDA_Blank_Cent | Penicillium | PDA                        | Blank  | PDA | PDA   |\n",
       "\n"
      ],
      "text/plain": [
       "    filename        ATTRIBUTE_Family ATTRIBUTE_Species              \n",
       "1   Blank50MeOH_1   Penicillium      Blank                          \n",
       "2   Blank50MeOH_2   Penicillium      Blank                          \n",
       "3   Blank50MeOH_3   Penicillium      Blank                          \n",
       "4   blank_50MeOH_4  Penicillium      Blank                          \n",
       "5   blank_50MeOH_5  Penicillium      Blank                          \n",
       "6   B_subtilis_Cent Bacillus         Bacillus_subtilis              \n",
       "7   BP01_cent       Penicillium      Penicillium_yarmokense         \n",
       "8   BP02_cent       Penicillium      Penicillium_echinulonalgiovense\n",
       "9   BP03_Cent       Penicillium      Penicillium_paraherquei        \n",
       "10  BP04_Cent       Penicillium      Penicillium_trzebinskii        \n",
       "11  BP05_cent       Penicillium      Penicillium_coprophilum        \n",
       "12  BP06_Cent       Penicillium      Penicillium_radicicola         \n",
       "13  BP07_Cent       Penicillium      Penicillium_nalgiovense        \n",
       "14  BP08_cent       Penicillium      Penicillium_mallochii          \n",
       "15  BP09_Cent       Penicillium      Penicillium_velutinum          \n",
       "16  BP10_Cent       Penicillium      Penicillium_chrysogenum        \n",
       "17  BP11_Cent       Penicillium      Penicillium_polonicum          \n",
       "18  BP12_cent       Penicillium      Penicillium_janczewskii        \n",
       "19  BP13_Cent       Penicillium      Penicillium_magnielliptisporum \n",
       "20  BP14_Cent       Penicillium      Penicillium_limosum            \n",
       "21  BP15_Cent       Penicillium      Penicillium_caperatum          \n",
       "22  BP16_Cent       Penicillium      Penicillium_allii              \n",
       "23  BP17_cent       Penicillium      Penicillium_multicolor         \n",
       "24  BP18_Cent       Penicillium      Penicillium_janthinellum       \n",
       "25  BP19_Cent       Penicillium      Penicillium_bilaiae            \n",
       "26  BP20_Cent       Penicillium      Penicillium_aurantioviolaceum  \n",
       "27  BP21_Cent       Penicillium      Penicillium_jejuense           \n",
       "28  BP22_Cent       Penicillium      Penicillium_steckii            \n",
       "29  BP23_Cent       Penicillium      Penicillium_roseomaculatum     \n",
       "30  BP24_Cent       Penicillium      Penicillium_spinulosum         \n",
       "... ...             ...              ...                            \n",
       "241 P63_Cent        Penicillium      Penicillium_mexicanum          \n",
       "242 P64_cent        Penicillium      Penicillium_nodulum            \n",
       "243 P65_cent        Penicillium      Penicillium_olsonii            \n",
       "244 P66_Cent        Penicillium      Penicillium_paxilli            \n",
       "245 P67_Cent        Penicillium      Penicillium_piscarium          \n",
       "246 P68_cent        Penicillium      Penicillium_terrigenum         \n",
       "247 P69_Cent        Penicillium      Penicillium_ubiquetum          \n",
       "248 P70_cent        Penicillium      Penicillium_viridicatum        \n",
       "249 P71_Cent        Penicillium      Penicillium_viticola           \n",
       "250 P72_cent        Penicillium      Penicillium_ortum              \n",
       "251 P73_Cent        Penicillium      Penicillium_raperi             \n",
       "252 P74_Cent        Penicillium      Penicillium_westlingii         \n",
       "253 P75_cent        Penicillium      Penicillium_griseofulvum       \n",
       "254 P76_Cent        Penicillium      Penicillium_javanicum          \n",
       "255 P77_Cent        Penicillium      Penicillium_bialowiezense      \n",
       "256 P81_Cent        Penicillium      Penicillium_citrinum           \n",
       "257 P82_Cent        Penicillium      Penicillium_crustosum          \n",
       "258 P83_cent        Penicillium      Penicillium_expansum           \n",
       "259 P84_Cent        Penicillium      Penicillium_frequentans        \n",
       "260 P85_Cent        Penicillium      Penicillium_hetheringtonii     \n",
       "261 P86_Cent        Penicillium      Penicillium_koreense           \n",
       "262 P87_Cent        Penicillium      Penicillium_maximae            \n",
       "263 P88_Cent        Penicillium      Penicillium_menonorum          \n",
       "264 P89_Cent        Penicillium      Penicillium_glabrum            \n",
       "265 QC1_0_Cent      Penicillium      NA                             \n",
       "266 QC2_0_Cent      Penicillium      NA                             \n",
       "267 QC3_0_cent      Penicillium      NA                             \n",
       "268 QC4_0_cent      Penicillium      NA                             \n",
       "269 QC5_0_Cent      Penicillium      NA                             \n",
       "270 PDA_Blank_Cent  Penicillium      PDA                            \n",
       "    ATTRIBUTE_SampleGroup ATTRIBUTE_SampleType ATTRIBUTE_SampleName\n",
       "1   Blank                 blank                blank_1             \n",
       "2   Blank                 blank                blank_2             \n",
       "3   Blank                 blank                blank_3             \n",
       "4   Blank                 blank                blank_4             \n",
       "5   Blank                 blank                blank_5             \n",
       "6   Control               Bacteria             Bacillus_subtilis   \n",
       "7   BP                    BP1                  BP01                \n",
       "8   BP                    BP1                  BP02                \n",
       "9   BP                    BP1                  BP03                \n",
       "10  BP                    BP1                  BP04                \n",
       "11  BP                    BP1                  BP05                \n",
       "12  BP                    BP1                  BP06                \n",
       "13  BP                    BP1                  BP07                \n",
       "14  BP                    BP1                  BP08                \n",
       "15  BP                    BP1                  BP09                \n",
       "16  BP                    BP1                  BP10                \n",
       "17  BP                    BP1                  BP11                \n",
       "18  BP                    BP1                  BP12                \n",
       "19  BP                    BP1                  BP13                \n",
       "20  BP                    BP1                  BP14                \n",
       "21  BP                    BP1                  BP15                \n",
       "22  BP                    BP1                  BP16                \n",
       "23  BP                    BP1                  BP17                \n",
       "24  BP                    BP1                  BP18                \n",
       "25  BP                    BP1                  BP19                \n",
       "26  BP                    BP1                  BP20                \n",
       "27  BP                    BP1                  BP21                \n",
       "28  BP                    BP1                  BP22                \n",
       "29  BP                    BP1                  BP23                \n",
       "30  BP                    BP1                  BP24                \n",
       "... ...                   ...                  ...                 \n",
       "241 Axenic                P                    P63                 \n",
       "242 Axenic                P                    P64                 \n",
       "243 Axenic                P                    P65                 \n",
       "244 Axenic                P                    P66                 \n",
       "245 Axenic                P                    P67                 \n",
       "246 Axenic                P                    P68                 \n",
       "247 Axenic                P                    P69                 \n",
       "248 Axenic                P                    P70                 \n",
       "249 Axenic                P                    P71                 \n",
       "250 Axenic                P                    P72                 \n",
       "251 Axenic                P                    P73                 \n",
       "252 Axenic                P                    P74                 \n",
       "253 Axenic                P                    P75                 \n",
       "254 Axenic                P                    P76                 \n",
       "255 Axenic                P                    P77                 \n",
       "256 Axenic                P                    P81                 \n",
       "257 Axenic                P                    P82                 \n",
       "258 Axenic                P                    P83                 \n",
       "259 Axenic                P                    P84                 \n",
       "260 Axenic                P                    P85                 \n",
       "261 Axenic                P                    P86                 \n",
       "262 Axenic                P                    P87                 \n",
       "263 Axenic                P                    P88                 \n",
       "264 Axenic                P                    P89                 \n",
       "265 QC                    QC1                  QC1_0               \n",
       "266 QC                    QC2                  QC2_0               \n",
       "267 QC                    QC3                  QC3_0               \n",
       "268 QC                    QC4                  QC4_0               \n",
       "269 QC                    QC5                  QC5_0               \n",
       "270 Blank                 PDA                  PDA                 "
      ]
     },
     "metadata": {},
     "output_type": "display_data"
    }
   ],
   "source": [
    "metadata"
   ]
  },
  {
   "cell_type": "code",
   "execution_count": 13,
   "metadata": {
    "collapsed": true,
    "jupyter": {
     "outputs_hidden": true
    }
   },
   "outputs": [
    {
     "name": "stderr",
     "output_type": "stream",
     "text": [
      "Warning message:\n",
      "\"package 'dplyr' was built under R version 3.6.3\"\n",
      "Attaching package: 'dplyr'\n",
      "\n",
      "The following objects are masked from 'package:stats':\n",
      "\n",
      "    filter, lag\n",
      "\n",
      "The following objects are masked from 'package:base':\n",
      "\n",
      "    intersect, setdiff, setequal, union\n",
      "\n",
      "Warning message:\n",
      "\"package 'ape' was built under R version 3.6.3\"\n",
      "Attaching package: 'ape'\n",
      "\n",
      "The following objects are masked from 'package:dendextend':\n",
      "\n",
      "    ladderize, rotate\n",
      "\n",
      "Warning message:\n",
      "\"package 'ggplot2' was built under R version 3.6.3\""
     ]
    }
   ],
   "source": [
    "library(dplyr)\n",
    "library(ape)\n",
    "library(ggplot2)"
   ]
  },
  {
   "cell_type": "code",
   "execution_count": 14,
   "metadata": {},
   "outputs": [
    {
     "data": {
      "image/png": "[encoded data removed]",
      "text/plain": [
       "plot without title"
      ]
     },
     "metadata": {},
     "output_type": "display_data"
    }
   ],
   "source": [
    "ggplot(data=df, aes(x = Axis.1, y = Axis.2, colour=ATTRIBUTE_SampleGroup))+\n",
    "    geom_point(size=2)+\n",
    "    theme_bw()"
   ]
  },
  {
   "cell_type": "markdown",
   "metadata": {},
   "source": [
    "## PCoA Plot in Qiime2\n",
    "\n",
    "### This section should be performed in Qiime 2 environment."
   ]
  },
  {
   "cell_type": "code",
   "execution_count": null,
   "metadata": {},
   "outputs": [],
   "source": [
    "! qiime tools import --type DistanceMatrix \\\n",
    "    --input-path wCSCS_Polyporaceae_200304.tsv \\\n",
    "    --output-path wCSCS_Polyporaceae.qza"
   ]
  },
  {
   "cell_type": "code",
   "execution_count": null,
   "metadata": {},
   "outputs": [],
   "source": [
    "! qiime diversity pcoa \\\n",
    "    --i-distance-matrix wCSCS_Polyporaceae.qza \\\n",
    "    --o-pcoa wCSCS_Polyporaceae_PCoA.qza"
   ]
  },
  {
   "cell_type": "code",
   "execution_count": null,
   "metadata": {},
   "outputs": [],
   "source": [
    "! qiime emperor plot \\\n",
    "    --i-pcoa wCSCS_Polyporaceae_PCoA.qza \\\n",
    "    --m-metadata-file Metadata_Polyporaceae_Neg200304_for_Qiime.txt \\\n",
    "    --o-visualization wCSCS_Polyporaceae.qzv"
   ]
  },
  {
   "cell_type": "markdown",
   "metadata": {},
   "source": [
    "## Hierarchical clustering analysis for drawing chemodendrogram"
   ]
  },
  {
   "cell_type": "code",
   "execution_count": 15,
   "metadata": {},
   "outputs": [],
   "source": [
    "## HCA with unWCSCS\n",
    "gnps.Unw_ccs.hc <- hclust(gnps.Unw_ccs,method = \"ward.D\")\n",
    "gnps.Unw_ccs.dend <- as.dendrogram(gnps.Unw_ccs.hc)\n",
    "labels(gnps.Unw_ccs.dend) <- Meta.Inf$ATTRIBUTE_Species[gnps.Unw_ccs.hc$order]"
   ]
  },
  {
   "cell_type": "code",
   "execution_count": 17,
   "metadata": {},
   "outputs": [
    {
     "data": {
      "image/png": "[encoded data removed]",
      "text/plain": [
       "Plot with title \"Penicillium_Pos (unwCSCS)\""
      ]
     },
     "metadata": {},
     "output_type": "display_data"
    }
   ],
   "source": [
    "gnps.Unw_ccs.dend <- set(gnps.Unw_ccs.dend, \"labels_cex\", 0.5)\n",
    "plot(gnps.Unw_ccs.dend, cex = 0.6, main=\"Penicillium_Pos (unwCSCS)\")"
   ]
  },
  {
   "cell_type": "code",
   "execution_count": 18,
   "metadata": {},
   "outputs": [],
   "source": [
    "## HCA with wCSCS\n",
    "gnps.W_ccs.hc <- hclust(gnps.W_ccs,method = \"ward.D\")\n",
    "gnps.W_ccs.dend <- as.dendrogram(gnps.W_ccs.hc)\n",
    "labels(gnps.W_ccs.dend) <- Meta.Inf$ATTRIBUTE_Species[gnps.W_ccs.hc$order]"
   ]
  },
  {
   "cell_type": "code",
   "execution_count": 21,
   "metadata": {},
   "outputs": [
    {
     "data": {
      "image/png": "[encoded data removed]",
      "text/plain": [
       "Plot with title \"Penicillium_Pos (wCSCS)\""
      ]
     },
     "metadata": {},
     "output_type": "display_data"
    }
   ],
   "source": [
    "gnps.W_ccs.dend <- set(gnps.W_ccs.dend, \"labels_cex\", 0.5)\n",
    "plot(gnps.W_ccs.dend, cex = 0.6, main=\"Penicillium_Pos (wCSCS)\")"
   ]
  },
  {
   "cell_type": "code",
   "execution_count": 20,
   "metadata": {},
   "outputs": [],
   "source": [
    "d <- dist(My.features, method = \"euclidean\")"
   ]
  },
  {
   "cell_type": "code",
   "execution_count": 8,
   "metadata": {},
   "outputs": [
    {
     "ename": "ERROR",
     "evalue": "Error in min(D.eig$values): 인자의 'type' (complex)이 올바르지 않습니다\n",
     "output_type": "error",
     "traceback": [
      "Error in min(D.eig$values): 인자의 'type' (complex)이 올바르지 않습니다\nTraceback:\n",
      "1. pcoa(d)"
     ]
    }
   ],
   "source": [
    "pcoa(d)"
   ]
  },
  {
   "cell_type": "code",
   "execution_count": null,
   "metadata": {},
   "outputs": [],
   "source": []
  }
 ],
 "metadata": {
  "kernelspec": {
   "display_name": "R",
   "language": "R",
   "name": "ir"
  },
  "language_info": {
   "codemirror_mode": "r",
   "file_extension": ".r",
   "mimetype": "text/x-r-source",
   "name": "R",
   "pygments_lexer": "r",
   "version": "3.6.1"
  }
 },
 "nbformat": 4,
 "nbformat_minor": 4
}
